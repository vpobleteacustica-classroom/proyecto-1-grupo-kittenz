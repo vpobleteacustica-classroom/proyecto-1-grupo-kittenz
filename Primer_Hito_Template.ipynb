{
 "cells": [
  {
   "cell_type": "markdown",
   "id": "2f3dedef-fb90-4732-a3b3-b366d08f9a9f",
   "metadata": {},
   "source": [
    "<p align=\"center\">\n",
    "  <img src=\"escudo_uach.png\" alt=\"Escudo UACh\" width=\"200\"/>\n",
    "</p>\n",
    "\n",
    "\n",
    "# Análisis comparativo de bandas sonoras\n",
    "## Proyecto de ACUS 220 Acústica Computacional con Python\n",
    "## Primer Hito de Entrega\n",
    "**Integrantes:** Patricio Cuevas, Felipe Henriquez, Daniela Huenumán"
   ]
  },
  {
   "cell_type": "markdown",
   "id": "bc941e8d-7883-4144-a2a7-af1c415c69fa",
   "metadata": {},
   "source": [
    "## Plantilla sugerida para el Primer Hito\n",
    "\n",
    "1. Portada (ya la tienes aquí a tu disposición)\n",
    "\n",
    "Incluye:\n",
    "- Escudo de la UACh.\n",
    "- Título del curso y proyecto.\n",
    "- Nombres de integrantes/ o individual."
   ]
  },
  {
   "cell_type": "markdown",
   "id": "208d11ba-3fbb-4840-9753-082ad5bb5d92",
   "metadata": {
    "jp-MarkdownHeadingCollapsed": true
   },
   "source": [
    "## Objetivo General\n",
    "\n",
    "2. Es una sola frase fuerte, amplia donde se expresa la meta principal del proyecto.\n",
    "- Responde a la pregunta: ¿Qué quieren lograr al final del trabajo?\n",
    "- Debe ser claro el objetivo general, alcanzable y medible, aunque no necesariamente incluya los detalles de cómo lo harán.\n",
    "\n",
    "Un ejemplo, en acústica computacional con Python:\n",
    "\n",
    "Objetivo general: “Desarrollar un modelo en Python para analizar y predecir niveles de ruido vehicular en una calle de Valdivia.”"
   ]
  },
  {
   "cell_type": "markdown",
   "id": "7eee6f26-cfde-4192-9e90-bcbd0666b875",
   "metadata": {},
   "source": [
    "## Objetivos Específicos\n",
    "\n",
    "3. Los objetivos específicos:\n",
    "\n",
    "- Son varias metas más pequeñas que, en conjunto, permiten acercarse al objetivo general.\n",
    "- Responden a la pregunta: ¿Qué pasos concretos seguirán para lograr la meta principal?\n",
    "- Normalmente, suelen ser entre 3 y 5 objetivos.\n",
    "- Se formulan de manera operativa y verificable (se pueden medir o comprobar).\n",
    "\n",
    "Por ejemplo, (siguiendo la idea del mismo proyecto anterior):\n",
    "\n",
    "1) Implementar un script en Python para extraer datos de tráfico y niveles de ruido medidos en terreno.\n",
    "2) Revisar el estado del arte sobre modelos de predicción de ruido urbano.\n",
    "3) Entrenar y validar un modelo de machine learning con los datos recopilados.\n",
    "4) Evaluar la precisión del modelo mediante métricas de error (RMSE, MAE).\n",
    "5) Presentar resultados y comparar con normativas acústicas vigentes en Chile."
   ]
  },
  {
   "cell_type": "markdown",
   "id": "be93e8d6-0901-4e95-8a61-dcd1da331d98",
   "metadata": {},
   "source": [
    "En resumen, una manera simple de explicar tus objetivos:\n",
    "\n",
    "1) Objetivo general: Es la meta grande, el destino final del viaje.\n",
    "2) Objetivos específicos: Son los pasos concretos que se deben cumplir en el camino para llegar al destino."
   ]
  },
  {
   "cell_type": "markdown",
   "id": "48ca221c-6805-4596-94e9-070cd821c63e",
   "metadata": {},
   "source": [
    "## \tEstado del Arte\n",
    "\n",
    "4. Esta sección busca proporcionar:\n",
    "- Una breve revisión de lo que ya existe sobre el tema del proyecto:\n",
    "    * Papers, artículos, libros.\n",
    "    * Plataformas o softwares similares.\n",
    "    * Links a repositorios o proyectos previos.\n",
    "- No se espera una revisión exhaustiva todavía, pero sí mostrar que han investigado y tienen contexto.\n",
    "\n",
    "Por ejemplo, siguiendo la idea de ruido vehicular:\n",
    "\n",
    "* \"(...) En la literatura internacional existen diversos modelos de predicción de ruido de tráfico, como CNOSSOS-EU en Europa o FHWA en Estados Unidos. En Chile, estudios como el de Arenas (2020) han abordado el impacto del tráfico en ciudades medianas. A nivel de software, existen herramientas como CadnaA o SoundPLAN, pero no siempre están disponibles para estudiantes o proyectos de bajo costo...”"
   ]
  },
  {
   "cell_type": "markdown",
   "id": "9190aae9-cc5c-4a89-9421-3270436a91ca",
   "metadata": {},
   "source": [
    "## \tMateriales y Métodos\n",
    "\n",
    "5. Aquí describen cómo piensan abordar el proyecto.\n",
    "- Qué materiales/datos usarán (audios, sensores, librerías de Python, bases de datos, etc.).\n",
    "- Qué metodología seguirán: recolección de datos, análisis, modelado, validación.\n",
    "- Puedes sugerir que hagan un plan de trabajo en tabla con tareas, responsables y fechas.\n",
    "\n",
    "Por ejemplo, se organizan las actividades en una tabla (en Markdown):\n",
    "\n",
    "| Actividad                        | Responsable(s)   | Fecha estimada |\n",
    "|----------------------------------|-----------------|----------------|\n",
    "| Revisión bibliográfica           | Grupo completo  | 10/10/2025     |\n",
    "| Recolección de datos en terreno  | Nombre1         | 20/10/2025     |\n",
    "| Procesamiento de datos en Python | Nombre2         | 30/10/2025     |\n",
    "| Entrenamiento del modelo         | Nombre3         | 15/11/2025     |\n",
    "| Redacción de informe parcial     | Grupo completo  | 25/11/2025     |"
   ]
  },
  {
   "cell_type": "markdown",
   "id": "70d5ae8c-bf2e-407b-9448-1e099fa3b4e1",
   "metadata": {},
   "source": [
    "## Referencias Bibliográficas:\n",
    "\n",
    "6. Aquí deben citar correctamente las fuentes que usaron en el estado del arte.\n",
    "\n",
    "- Puedes darles un formato simple en APA o IEEE.\n",
    "\n",
    "Por ejemplo, \n",
    "\n",
    "[1] Arenas, J. P. (2020). Noise pollution in Latin America: Challenges and perspectives. Journal of the Acoustical Society of America, 148(3), 1234-1245.\n",
    "\n",
    "[2] European Commission. (2015). CNOSSOS-EU: Common Noise Assessment Methods in Europe."
   ]
  },
  {
   "cell_type": "code",
   "execution_count": null,
   "id": "9d748307-ea44-4e51-a30e-cced014ca883",
   "metadata": {},
   "outputs": [],
   "source": []
  }
 ],
 "metadata": {
  "kernelspec": {
   "display_name": "Python 3 (ipykernel)",
   "language": "python",
   "name": "python3"
  },
  "language_info": {
   "codemirror_mode": {
    "name": "ipython",
    "version": 3
   },
   "file_extension": ".py",
   "mimetype": "text/x-python",
   "name": "python",
   "nbconvert_exporter": "python",
   "pygments_lexer": "ipython3",
   "version": "3.10.12"
  }
 },
 "nbformat": 4,
 "nbformat_minor": 5
}
