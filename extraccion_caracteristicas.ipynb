{
 "cells": [
  {
   "cell_type": "code",
   "execution_count": 10,
   "id": "0919bc12-472a-4bcd-aa9c-bb2b30b1b78b",
   "metadata": {},
   "outputs": [],
   "source": [
    "# %pip install essentia\n",
    "# %pip install librosa\n",
    "# %pip install yt_dlp"
   ]
  },
  {
   "cell_type": "code",
   "execution_count": 73,
   "id": "a94013d2-860c-4d06-a456-c1645ecdfd21",
   "metadata": {},
   "outputs": [],
   "source": [
    "import librosa\n",
    "import essentia.standard as es\n",
    "import numpy as np\n",
    "import pandas as pd\n",
    "import os"
   ]
  },
  {
   "cell_type": "code",
   "execution_count": 70,
   "id": "59ca3430-28a8-4f50-8021-157d5550fa6a",
   "metadata": {},
   "outputs": [],
   "source": [
    "\"\"\" TEMPO (BPM) \"\"\"\n",
    "def get_tempo(y, sr):\n",
    "    # Estimar el tempo\n",
    "    tempo, beat_frames = librosa.beat.beat_track(y=y, sr=sr)\n",
    "    # El resultado 'tempo' es un número flotante, p. ej., 129.199\n",
    "    print(tempo)\n",
    "    return tempo\n",
    "\n",
    "\"\"\" KEY (Tonalidad) \"\"\"\n",
    "def get_key(audio):\n",
    "    key_extractor = es.KeyExtractor()\n",
    "    key, scale, strength = key_extractor(audio)\n",
    "    \n",
    "    return(key, scale) # 'key' será la tónica (p. ej., \"C\") y 'scale' la modalidad (p. ej., \"major\")\n",
    "\n",
    "\"\"\" LOUDNESS (Volumen) \"\"\"\n",
    "\n",
    "def get_loudness(audio):\n",
    "    loudness = es.Loudness()(audio)\n",
    "    return loudness\n",
    "\n",
    "\"\"\" Time Signature (compás) \"\"\"\n",
    "\n",
    "def estimate_time_signature_value(y, sr):\n",
    "    tempo, beats = librosa.beat.beat_track(y=y, sr=sr)\n",
    "    n_beats = len(beats)\n",
    "\n",
    "    # Heurística simple para videojuegos\n",
    "    # (solo interesa una aproximación numérica)\n",
    "    if tempo < 70:\n",
    "        return 3   # suave o vals\n",
    "    elif tempo < 100:\n",
    "        return 2   # binario, marchas\n",
    "    else:\n",
    "        return 4   # casi todo lo demás (loops, combate, etc.)"
   ]
  },
  {
   "cell_type": "code",
   "execution_count": 76,
   "id": "1ecac2d0-7557-4c92-9a70-dfbb0711ad2b",
   "metadata": {},
   "outputs": [
    {
     "name": "stdout",
     "output_type": "stream",
     "text": [
      "[148.02631579]\n",
      "                filename                 tempo key  scale     loudness  \\\n",
      "0  27. It’s TV Time!.mp3  [148.02631578947367]   G  minor  4617.086426   \n",
      "\n",
      "   time_signature  \n",
      "0               4  \n"
     ]
    }
   ],
   "source": [
    "import pandas as pd\n",
    "import os\n",
    "\n",
    "\n",
    "audio_files = [\"data/27. It’s TV Time!.mp3\"] \n",
    "all_features = []\n",
    "\n",
    "for audio_path in audio_files:\n",
    "    # Cargar audios\n",
    "    y, sr = librosa.load(audio_path, sr=None)\n",
    "    audio_essentia = es.MonoLoader(filename=audio_path)()\n",
    "    \n",
    "    # Extraer todas las features\n",
    "    tempo = get_tempo(y, sr)\n",
    "    key, scale = get_key(audio_essentia)\n",
    "    loudness = get_loudness(audio_essentia)\n",
    "    time_signature = estimate_time_signature_value(y, sr)\n",
    "    \n",
    "    # Crear un diccionario para esta canción\n",
    "    features_dict = {\n",
    "        'filename': os.path.basename(audio_path),\n",
    "        'tempo': tempo,\n",
    "        'key': key,\n",
    "        'scale': scale,\n",
    "        'loudness': loudness,\n",
    "        'time_signature': time_signature\n",
    "    }\n",
    "    \n",
    "    all_features.append(features_dict)\n",
    "\n",
    "# 2. Convertir la lista de diccionarios a un DataFrame\n",
    "features_df = pd.DataFrame(all_features)\n",
    "\n",
    "# 3. Guardar el DataFrame\n",
    "print(features_df)"
   ]
  },
  {
   "cell_type": "code",
   "execution_count": null,
   "id": "c0a35070-597f-4ce5-8bb9-7481d3549aa1",
   "metadata": {},
   "outputs": [],
   "source": []
  }
 ],
 "metadata": {
  "kernelspec": {
   "display_name": "Python 3 (ipykernel)",
   "language": "python",
   "name": "python3"
  },
  "language_info": {
   "codemirror_mode": {
    "name": "ipython",
    "version": 3
   },
   "file_extension": ".py",
   "mimetype": "text/x-python",
   "name": "python",
   "nbconvert_exporter": "python",
   "pygments_lexer": "ipython3",
   "version": "3.10.12"
  }
 },
 "nbformat": 4,
 "nbformat_minor": 5
}
