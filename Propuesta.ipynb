{
 "cells": [
  {
   "cell_type": "markdown",
   "id": "e6ac9869-1348-4789-98ec-6e9e950f6f1d",
   "metadata": {},
   "source": [
    "# Videojuegos & Sonido Inmersivo\n",
    "Análisis comparativo de bandas sonoras (ej. Minecraft vs. Stardew Valley vs. Undertale) en términos de instrumentación, armonía y uso del espacio espectral.\n",
    "\n",
    "## ¿Qué implica un “análisis comparativo” de bandas sonoras?\n",
    "Se trata de estudiar y contrastar las composiciones musicales de distintos juegos, como:\n",
    "Minecraft: Minimalista, ambiental, con piano suave y texturas espaciales.\n",
    "Stardew Valley: Melódico, nostálgico, con sintetizadores y arreglos folk.\n",
    "Undertale: emocional, con temas que van desde lo retro hasta lo épico.\n",
    "Qué se analiza exactamente:\n",
    "1. Instrumentación\n",
    "¿Qué instrumentos se usan? ¿Sintetizadores, piano, cuerdas, percusión?\n",
    "¿Son reales o virtuales? ¿Cómo se combinan?\n",
    "2. Armonía\n",
    "¿Qué tipo de acordes predominan? ¿Mayor para alegría, menor para melancolía?\n",
    "¿Hay progresiones simples o complejas? ¿Modulaciones?\n",
    "3. Espacio espectral\n",
    "¿Cómo se distribuyen las frecuencias? ¿Graves, medios, agudos?\n",
    "¿Hay uso de reverberación o paneo para crear profundidad?\n",
    "¿Qué tan “lleno” o “vacío” suena el paisaje sonoro?\n",
    "## ¿Cómo vamos a abordarlo?\n",
    "Con nuestro dominio en Python y audio digital, podemos usar herramientas como:\n",
    "Librosa / Essentia: Para extraer MFCCs, centroide espectral, contraste, etc.\n",
    "Pydub: Para cortar y preparar muestras.\n",
    "Modelado espectral: Comparar densidad y distribución de frecuencias entre juegos.\n",
    "Visualización: Espectrogramas, diagramas de flujo de armonía, mapas de instrumentación."
   ]
  },
  {
   "cell_type": "code",
   "execution_count": null,
   "id": "5f19a04d-3b3e-4a88-9e80-0c13c0302270",
   "metadata": {},
   "outputs": [],
   "source": []
  }
 ],
 "metadata": {
  "kernelspec": {
   "display_name": "Python 3 (ipykernel)",
   "language": "python",
   "name": "python3"
  },
  "language_info": {
   "codemirror_mode": {
    "name": "ipython",
    "version": 3
   },
   "file_extension": ".py",
   "mimetype": "text/x-python",
   "name": "python",
   "nbconvert_exporter": "python",
   "pygments_lexer": "ipython3",
   "version": "3.10.12"
  }
 },
 "nbformat": 4,
 "nbformat_minor": 5
}
